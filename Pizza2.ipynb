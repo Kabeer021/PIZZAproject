{
 "cells": [
  {
   "cell_type": "code",
   "execution_count": 229,
   "id": "dc57b8da",
   "metadata": {},
   "outputs": [],
   "source": [
    "import numpy as np\n",
    "import pandas as pd"
   ]
  },
  {
   "cell_type": "code",
   "execution_count": 230,
   "id": "3f24126b",
   "metadata": {},
   "outputs": [],
   "source": [
    "df = pd.read_csv('D:\\\\data.csv')"
   ]
  },
  {
   "cell_type": "code",
   "execution_count": 231,
   "id": "09788037",
   "metadata": {},
   "outputs": [
    {
     "data": {
      "text/html": [
       "<div>\n",
       "<style scoped>\n",
       "    .dataframe tbody tr th:only-of-type {\n",
       "        vertical-align: middle;\n",
       "    }\n",
       "\n",
       "    .dataframe tbody tr th {\n",
       "        vertical-align: top;\n",
       "    }\n",
       "\n",
       "    .dataframe thead th {\n",
       "        text-align: right;\n",
       "    }\n",
       "</style>\n",
       "<table border=\"1\" class=\"dataframe\">\n",
       "  <thead>\n",
       "    <tr style=\"text-align: right;\">\n",
       "      <th></th>\n",
       "      <th>day_count_0_25</th>\n",
       "      <th>day_count_0_5</th>\n",
       "      <th>day_count_0_75</th>\n",
       "      <th>day_count_1_0</th>\n",
       "      <th>day_count_2_0</th>\n",
       "      <th>day_count_3_0</th>\n",
       "      <th>day_count_4_0</th>\n",
       "      <th>pop_count_0_25</th>\n",
       "      <th>pop_count_0_5</th>\n",
       "      <th>pop_count_0_75</th>\n",
       "      <th>...</th>\n",
       "      <th>pizza_restaurant_4_0</th>\n",
       "      <th>restaurant_0_25</th>\n",
       "      <th>restaurant_0_5</th>\n",
       "      <th>restaurant_0_75</th>\n",
       "      <th>restaurant_1_0</th>\n",
       "      <th>restaurant_2_0</th>\n",
       "      <th>restaurant_3_0</th>\n",
       "      <th>restaurant_4_0</th>\n",
       "      <th>size</th>\n",
       "      <th>target</th>\n",
       "    </tr>\n",
       "  </thead>\n",
       "  <tbody>\n",
       "    <tr>\n",
       "      <th>count</th>\n",
       "      <td>116.000000</td>\n",
       "      <td>116.000000</td>\n",
       "      <td>116.000000</td>\n",
       "      <td>116.000000</td>\n",
       "      <td>116.000000</td>\n",
       "      <td>116.000000</td>\n",
       "      <td>116.000000</td>\n",
       "      <td>116.000000</td>\n",
       "      <td>116.000000</td>\n",
       "      <td>116.000000</td>\n",
       "      <td>...</td>\n",
       "      <td>116.000000</td>\n",
       "      <td>116.000000</td>\n",
       "      <td>116.000000</td>\n",
       "      <td>116.000000</td>\n",
       "      <td>116.000000</td>\n",
       "      <td>116.000000</td>\n",
       "      <td>116.000000</td>\n",
       "      <td>116.000000</td>\n",
       "      <td>116.000000</td>\n",
       "      <td>1.160000e+02</td>\n",
       "    </tr>\n",
       "    <tr>\n",
       "      <th>mean</th>\n",
       "      <td>618.706897</td>\n",
       "      <td>2009.068966</td>\n",
       "      <td>3978.353448</td>\n",
       "      <td>6878.836207</td>\n",
       "      <td>24626.267241</td>\n",
       "      <td>50910.732759</td>\n",
       "      <td>85378.586207</td>\n",
       "      <td>570.646552</td>\n",
       "      <td>2004.422414</td>\n",
       "      <td>4028.974138</td>\n",
       "      <td>...</td>\n",
       "      <td>8.387931</td>\n",
       "      <td>0.646552</td>\n",
       "      <td>1.051724</td>\n",
       "      <td>1.189655</td>\n",
       "      <td>1.482759</td>\n",
       "      <td>3.594828</td>\n",
       "      <td>6.991379</td>\n",
       "      <td>10.844828</td>\n",
       "      <td>346.165609</td>\n",
       "      <td>5.050133e+06</td>\n",
       "    </tr>\n",
       "    <tr>\n",
       "      <th>std</th>\n",
       "      <td>883.654349</td>\n",
       "      <td>2566.328471</td>\n",
       "      <td>4106.963451</td>\n",
       "      <td>6536.804683</td>\n",
       "      <td>19067.392975</td>\n",
       "      <td>38340.012034</td>\n",
       "      <td>63609.484005</td>\n",
       "      <td>993.258145</td>\n",
       "      <td>3065.410764</td>\n",
       "      <td>4721.096613</td>\n",
       "      <td>...</td>\n",
       "      <td>6.902768</td>\n",
       "      <td>0.867323</td>\n",
       "      <td>1.185747</td>\n",
       "      <td>1.331320</td>\n",
       "      <td>1.411030</td>\n",
       "      <td>2.822205</td>\n",
       "      <td>5.462116</td>\n",
       "      <td>8.122543</td>\n",
       "      <td>436.478860</td>\n",
       "      <td>3.057783e+06</td>\n",
       "    </tr>\n",
       "    <tr>\n",
       "      <th>min</th>\n",
       "      <td>18.000000</td>\n",
       "      <td>27.000000</td>\n",
       "      <td>28.000000</td>\n",
       "      <td>31.000000</td>\n",
       "      <td>49.000000</td>\n",
       "      <td>60.000000</td>\n",
       "      <td>90.000000</td>\n",
       "      <td>16.000000</td>\n",
       "      <td>36.000000</td>\n",
       "      <td>36.000000</td>\n",
       "      <td>...</td>\n",
       "      <td>0.000000</td>\n",
       "      <td>0.000000</td>\n",
       "      <td>0.000000</td>\n",
       "      <td>0.000000</td>\n",
       "      <td>0.000000</td>\n",
       "      <td>0.000000</td>\n",
       "      <td>0.000000</td>\n",
       "      <td>0.000000</td>\n",
       "      <td>31.080000</td>\n",
       "      <td>1.001307e+06</td>\n",
       "    </tr>\n",
       "    <tr>\n",
       "      <th>25%</th>\n",
       "      <td>239.000000</td>\n",
       "      <td>789.750000</td>\n",
       "      <td>1634.750000</td>\n",
       "      <td>2505.250000</td>\n",
       "      <td>10453.500000</td>\n",
       "      <td>21120.250000</td>\n",
       "      <td>33526.250000</td>\n",
       "      <td>203.500000</td>\n",
       "      <td>800.750000</td>\n",
       "      <td>1510.000000</td>\n",
       "      <td>...</td>\n",
       "      <td>3.750000</td>\n",
       "      <td>0.000000</td>\n",
       "      <td>0.000000</td>\n",
       "      <td>0.000000</td>\n",
       "      <td>0.000000</td>\n",
       "      <td>1.000000</td>\n",
       "      <td>2.000000</td>\n",
       "      <td>3.000000</td>\n",
       "      <td>83.640000</td>\n",
       "      <td>3.310105e+06</td>\n",
       "    </tr>\n",
       "    <tr>\n",
       "      <th>50%</th>\n",
       "      <td>497.500000</td>\n",
       "      <td>1718.500000</td>\n",
       "      <td>3502.500000</td>\n",
       "      <td>6636.000000</td>\n",
       "      <td>23852.000000</td>\n",
       "      <td>47529.500000</td>\n",
       "      <td>81835.000000</td>\n",
       "      <td>447.500000</td>\n",
       "      <td>1602.000000</td>\n",
       "      <td>3542.500000</td>\n",
       "      <td>...</td>\n",
       "      <td>7.000000</td>\n",
       "      <td>0.000000</td>\n",
       "      <td>1.000000</td>\n",
       "      <td>1.000000</td>\n",
       "      <td>1.000000</td>\n",
       "      <td>3.000000</td>\n",
       "      <td>7.000000</td>\n",
       "      <td>10.000000</td>\n",
       "      <td>194.250000</td>\n",
       "      <td>4.503270e+06</td>\n",
       "    </tr>\n",
       "    <tr>\n",
       "      <th>75%</th>\n",
       "      <td>733.500000</td>\n",
       "      <td>2455.750000</td>\n",
       "      <td>5042.500000</td>\n",
       "      <td>8859.250000</td>\n",
       "      <td>34698.500000</td>\n",
       "      <td>72120.750000</td>\n",
       "      <td>123886.750000</td>\n",
       "      <td>633.000000</td>\n",
       "      <td>2273.500000</td>\n",
       "      <td>5012.250000</td>\n",
       "      <td>...</td>\n",
       "      <td>12.000000</td>\n",
       "      <td>1.000000</td>\n",
       "      <td>2.000000</td>\n",
       "      <td>2.000000</td>\n",
       "      <td>2.000000</td>\n",
       "      <td>5.000000</td>\n",
       "      <td>10.000000</td>\n",
       "      <td>15.250000</td>\n",
       "      <td>357.725000</td>\n",
       "      <td>5.974975e+06</td>\n",
       "    </tr>\n",
       "    <tr>\n",
       "      <th>max</th>\n",
       "      <td>9017.000000</td>\n",
       "      <td>25221.000000</td>\n",
       "      <td>36374.000000</td>\n",
       "      <td>52887.000000</td>\n",
       "      <td>98870.000000</td>\n",
       "      <td>166501.000000</td>\n",
       "      <td>267023.000000</td>\n",
       "      <td>10270.000000</td>\n",
       "      <td>30807.000000</td>\n",
       "      <td>43735.000000</td>\n",
       "      <td>...</td>\n",
       "      <td>30.000000</td>\n",
       "      <td>4.000000</td>\n",
       "      <td>5.000000</td>\n",
       "      <td>6.000000</td>\n",
       "      <td>6.000000</td>\n",
       "      <td>16.000000</td>\n",
       "      <td>24.000000</td>\n",
       "      <td>32.000000</td>\n",
       "      <td>2291.040000</td>\n",
       "      <td>2.139360e+07</td>\n",
       "    </tr>\n",
       "  </tbody>\n",
       "</table>\n",
       "<p>8 rows × 121 columns</p>\n",
       "</div>"
      ],
      "text/plain": [
       "       day_count_0_25  day_count_0_5  day_count_0_75  day_count_1_0  \\\n",
       "count      116.000000     116.000000      116.000000     116.000000   \n",
       "mean       618.706897    2009.068966     3978.353448    6878.836207   \n",
       "std        883.654349    2566.328471     4106.963451    6536.804683   \n",
       "min         18.000000      27.000000       28.000000      31.000000   \n",
       "25%        239.000000     789.750000     1634.750000    2505.250000   \n",
       "50%        497.500000    1718.500000     3502.500000    6636.000000   \n",
       "75%        733.500000    2455.750000     5042.500000    8859.250000   \n",
       "max       9017.000000   25221.000000    36374.000000   52887.000000   \n",
       "\n",
       "       day_count_2_0  day_count_3_0  day_count_4_0  pop_count_0_25  \\\n",
       "count     116.000000     116.000000     116.000000      116.000000   \n",
       "mean    24626.267241   50910.732759   85378.586207      570.646552   \n",
       "std     19067.392975   38340.012034   63609.484005      993.258145   \n",
       "min        49.000000      60.000000      90.000000       16.000000   \n",
       "25%     10453.500000   21120.250000   33526.250000      203.500000   \n",
       "50%     23852.000000   47529.500000   81835.000000      447.500000   \n",
       "75%     34698.500000   72120.750000  123886.750000      633.000000   \n",
       "max     98870.000000  166501.000000  267023.000000    10270.000000   \n",
       "\n",
       "       pop_count_0_5  pop_count_0_75  ...  pizza_restaurant_4_0  \\\n",
       "count     116.000000      116.000000  ...            116.000000   \n",
       "mean     2004.422414     4028.974138  ...              8.387931   \n",
       "std      3065.410764     4721.096613  ...              6.902768   \n",
       "min        36.000000       36.000000  ...              0.000000   \n",
       "25%       800.750000     1510.000000  ...              3.750000   \n",
       "50%      1602.000000     3542.500000  ...              7.000000   \n",
       "75%      2273.500000     5012.250000  ...             12.000000   \n",
       "max     30807.000000    43735.000000  ...             30.000000   \n",
       "\n",
       "       restaurant_0_25  restaurant_0_5  restaurant_0_75  restaurant_1_0  \\\n",
       "count       116.000000      116.000000       116.000000      116.000000   \n",
       "mean          0.646552        1.051724         1.189655        1.482759   \n",
       "std           0.867323        1.185747         1.331320        1.411030   \n",
       "min           0.000000        0.000000         0.000000        0.000000   \n",
       "25%           0.000000        0.000000         0.000000        0.000000   \n",
       "50%           0.000000        1.000000         1.000000        1.000000   \n",
       "75%           1.000000        2.000000         2.000000        2.000000   \n",
       "max           4.000000        5.000000         6.000000        6.000000   \n",
       "\n",
       "       restaurant_2_0  restaurant_3_0  restaurant_4_0         size  \\\n",
       "count      116.000000      116.000000      116.000000   116.000000   \n",
       "mean         3.594828        6.991379       10.844828   346.165609   \n",
       "std          2.822205        5.462116        8.122543   436.478860   \n",
       "min          0.000000        0.000000        0.000000    31.080000   \n",
       "25%          1.000000        2.000000        3.000000    83.640000   \n",
       "50%          3.000000        7.000000       10.000000   194.250000   \n",
       "75%          5.000000       10.000000       15.250000   357.725000   \n",
       "max         16.000000       24.000000       32.000000  2291.040000   \n",
       "\n",
       "             target  \n",
       "count  1.160000e+02  \n",
       "mean   5.050133e+06  \n",
       "std    3.057783e+06  \n",
       "min    1.001307e+06  \n",
       "25%    3.310105e+06  \n",
       "50%    4.503270e+06  \n",
       "75%    5.974975e+06  \n",
       "max    2.139360e+07  \n",
       "\n",
       "[8 rows x 121 columns]"
      ]
     },
     "execution_count": 231,
     "metadata": {},
     "output_type": "execute_result"
    }
   ],
   "source": [
    "df.describe()"
   ]
  },
  {
   "cell_type": "code",
   "execution_count": 232,
   "id": "b56a7a69",
   "metadata": {},
   "outputs": [
    {
     "data": {
      "text/plain": [
       "day_count_0_25    0\n",
       "day_count_0_5     0\n",
       "day_count_0_75    0\n",
       "day_count_1_0     0\n",
       "day_count_2_0     0\n",
       "                 ..\n",
       "size              0\n",
       "concept_type      0\n",
       "city              0\n",
       "region            0\n",
       "target            0\n",
       "Length: 124, dtype: int64"
      ]
     },
     "execution_count": 232,
     "metadata": {},
     "output_type": "execute_result"
    }
   ],
   "source": [
    "df.isnull().sum()"
   ]
  },
  {
   "cell_type": "code",
   "execution_count": 233,
   "id": "f6d14732",
   "metadata": {},
   "outputs": [
    {
     "data": {
      "text/html": [
       "<div>\n",
       "<style scoped>\n",
       "    .dataframe tbody tr th:only-of-type {\n",
       "        vertical-align: middle;\n",
       "    }\n",
       "\n",
       "    .dataframe tbody tr th {\n",
       "        vertical-align: top;\n",
       "    }\n",
       "\n",
       "    .dataframe thead th {\n",
       "        text-align: right;\n",
       "    }\n",
       "</style>\n",
       "<table border=\"1\" class=\"dataframe\">\n",
       "  <thead>\n",
       "    <tr style=\"text-align: right;\">\n",
       "      <th></th>\n",
       "      <th>day_count_0_25</th>\n",
       "      <th>day_count_0_5</th>\n",
       "      <th>day_count_0_75</th>\n",
       "      <th>day_count_1_0</th>\n",
       "      <th>day_count_2_0</th>\n",
       "      <th>day_count_3_0</th>\n",
       "      <th>day_count_4_0</th>\n",
       "      <th>pop_count_0_25</th>\n",
       "      <th>pop_count_0_5</th>\n",
       "      <th>pop_count_0_75</th>\n",
       "      <th>...</th>\n",
       "      <th>restaurant_0_75</th>\n",
       "      <th>restaurant_1_0</th>\n",
       "      <th>restaurant_2_0</th>\n",
       "      <th>restaurant_3_0</th>\n",
       "      <th>restaurant_4_0</th>\n",
       "      <th>size</th>\n",
       "      <th>concept_type</th>\n",
       "      <th>city</th>\n",
       "      <th>region</th>\n",
       "      <th>target</th>\n",
       "    </tr>\n",
       "  </thead>\n",
       "  <tbody>\n",
       "    <tr>\n",
       "      <th>0</th>\n",
       "      <td>590</td>\n",
       "      <td>2022</td>\n",
       "      <td>3720</td>\n",
       "      <td>6944</td>\n",
       "      <td>24673</td>\n",
       "      <td>48211</td>\n",
       "      <td>64642</td>\n",
       "      <td>564</td>\n",
       "      <td>2006</td>\n",
       "      <td>3565</td>\n",
       "      <td>...</td>\n",
       "      <td>3</td>\n",
       "      <td>3</td>\n",
       "      <td>6</td>\n",
       "      <td>8</td>\n",
       "      <td>8</td>\n",
       "      <td>286.8573</td>\n",
       "      <td>IL</td>\n",
       "      <td>riyadh</td>\n",
       "      <td>riyadh_region</td>\n",
       "      <td>4888254.998</td>\n",
       "    </tr>\n",
       "    <tr>\n",
       "      <th>1</th>\n",
       "      <td>427</td>\n",
       "      <td>1120</td>\n",
       "      <td>1949</td>\n",
       "      <td>3410</td>\n",
       "      <td>11167</td>\n",
       "      <td>20545</td>\n",
       "      <td>35977</td>\n",
       "      <td>250</td>\n",
       "      <td>907</td>\n",
       "      <td>1725</td>\n",
       "      <td>...</td>\n",
       "      <td>3</td>\n",
       "      <td>3</td>\n",
       "      <td>7</td>\n",
       "      <td>9</td>\n",
       "      <td>12</td>\n",
       "      <td>72.3200</td>\n",
       "      <td>FC</td>\n",
       "      <td>other</td>\n",
       "      <td>ḥail_province</td>\n",
       "      <td>2862160.623</td>\n",
       "    </tr>\n",
       "    <tr>\n",
       "      <th>2</th>\n",
       "      <td>532</td>\n",
       "      <td>2710</td>\n",
       "      <td>5176</td>\n",
       "      <td>10186</td>\n",
       "      <td>36727</td>\n",
       "      <td>68759</td>\n",
       "      <td>116027</td>\n",
       "      <td>539</td>\n",
       "      <td>2662</td>\n",
       "      <td>5099</td>\n",
       "      <td>...</td>\n",
       "      <td>2</td>\n",
       "      <td>2</td>\n",
       "      <td>8</td>\n",
       "      <td>11</td>\n",
       "      <td>18</td>\n",
       "      <td>196.9590</td>\n",
       "      <td>ILDT</td>\n",
       "      <td>dammam</td>\n",
       "      <td>eastern_province</td>\n",
       "      <td>4033007.517</td>\n",
       "    </tr>\n",
       "    <tr>\n",
       "      <th>3</th>\n",
       "      <td>682</td>\n",
       "      <td>2464</td>\n",
       "      <td>4089</td>\n",
       "      <td>7273</td>\n",
       "      <td>26611</td>\n",
       "      <td>42798</td>\n",
       "      <td>59421</td>\n",
       "      <td>682</td>\n",
       "      <td>2507</td>\n",
       "      <td>4093</td>\n",
       "      <td>...</td>\n",
       "      <td>0</td>\n",
       "      <td>1</td>\n",
       "      <td>3</td>\n",
       "      <td>13</td>\n",
       "      <td>14</td>\n",
       "      <td>129.5000</td>\n",
       "      <td>ILDT</td>\n",
       "      <td>other</td>\n",
       "      <td>eastern_province</td>\n",
       "      <td>3683833.046</td>\n",
       "    </tr>\n",
       "    <tr>\n",
       "      <th>4</th>\n",
       "      <td>754</td>\n",
       "      <td>2155</td>\n",
       "      <td>4225</td>\n",
       "      <td>6657</td>\n",
       "      <td>25903</td>\n",
       "      <td>56247</td>\n",
       "      <td>109079</td>\n",
       "      <td>798</td>\n",
       "      <td>2225</td>\n",
       "      <td>4436</td>\n",
       "      <td>...</td>\n",
       "      <td>2</td>\n",
       "      <td>2</td>\n",
       "      <td>2</td>\n",
       "      <td>5</td>\n",
       "      <td>11</td>\n",
       "      <td>113.4000</td>\n",
       "      <td>ILDT</td>\n",
       "      <td>jeddah</td>\n",
       "      <td>makkah_region</td>\n",
       "      <td>3500566.183</td>\n",
       "    </tr>\n",
       "  </tbody>\n",
       "</table>\n",
       "<p>5 rows × 124 columns</p>\n",
       "</div>"
      ],
      "text/plain": [
       "   day_count_0_25  day_count_0_5  day_count_0_75  day_count_1_0  \\\n",
       "0             590           2022            3720           6944   \n",
       "1             427           1120            1949           3410   \n",
       "2             532           2710            5176          10186   \n",
       "3             682           2464            4089           7273   \n",
       "4             754           2155            4225           6657   \n",
       "\n",
       "   day_count_2_0  day_count_3_0  day_count_4_0  pop_count_0_25  pop_count_0_5  \\\n",
       "0          24673          48211          64642             564           2006   \n",
       "1          11167          20545          35977             250            907   \n",
       "2          36727          68759         116027             539           2662   \n",
       "3          26611          42798          59421             682           2507   \n",
       "4          25903          56247         109079             798           2225   \n",
       "\n",
       "   pop_count_0_75  ...  restaurant_0_75  restaurant_1_0  restaurant_2_0  \\\n",
       "0            3565  ...                3               3               6   \n",
       "1            1725  ...                3               3               7   \n",
       "2            5099  ...                2               2               8   \n",
       "3            4093  ...                0               1               3   \n",
       "4            4436  ...                2               2               2   \n",
       "\n",
       "   restaurant_3_0  restaurant_4_0      size  concept_type    city  \\\n",
       "0               8               8  286.8573            IL  riyadh   \n",
       "1               9              12   72.3200            FC   other   \n",
       "2              11              18  196.9590          ILDT  dammam   \n",
       "3              13              14  129.5000          ILDT   other   \n",
       "4               5              11  113.4000          ILDT  jeddah   \n",
       "\n",
       "             region       target  \n",
       "0     riyadh_region  4888254.998  \n",
       "1     ḥail_province  2862160.623  \n",
       "2  eastern_province  4033007.517  \n",
       "3  eastern_province  3683833.046  \n",
       "4     makkah_region  3500566.183  \n",
       "\n",
       "[5 rows x 124 columns]"
      ]
     },
     "execution_count": 233,
     "metadata": {},
     "output_type": "execute_result"
    }
   ],
   "source": [
    "df.head()"
   ]
  },
  {
   "cell_type": "code",
   "execution_count": 234,
   "id": "86f7f593",
   "metadata": {},
   "outputs": [],
   "source": [
    "x= df.drop(['target'], axis=1)\n",
    "y= df['target']\n"
   ]
  },
  {
   "cell_type": "markdown",
   "id": "eff62bd1",
   "metadata": {},
   "source": [
    "## Using one hot encoding"
   ]
  },
  {
   "cell_type": "code",
   "execution_count": 235,
   "id": "f5a5d51e",
   "metadata": {},
   "outputs": [],
   "source": [
    "from sklearn.preprocessing import OneHotEncoder\n",
    "from sklearn.compose import ColumnTransformer"
   ]
  },
  {
   "cell_type": "code",
   "execution_count": 236,
   "id": "cde61d85",
   "metadata": {},
   "outputs": [],
   "source": [
    "from sklearn.model_selection import train_test_split\n",
    "X_train,X_test,y_train,y_test = train_test_split(x,y,test_size=0.2,random_state =49)"
   ]
  },
  {
   "cell_type": "code",
   "execution_count": 237,
   "id": "4d1b9c01",
   "metadata": {},
   "outputs": [
    {
     "data": {
      "text/plain": [
       "(92, 123)"
      ]
     },
     "execution_count": 237,
     "metadata": {},
     "output_type": "execute_result"
    }
   ],
   "source": [
    "X_train.shape"
   ]
  },
  {
   "cell_type": "code",
   "execution_count": 238,
   "id": "34173a5f",
   "metadata": {},
   "outputs": [],
   "source": [
    "transformer = ColumnTransformer(transformers=[\n",
    "    ('tnf',OneHotEncoder(sparse=False,drop='first'),['concept_type','city','region'])\n",
    "], remainder = 'passthrough')"
   ]
  },
  {
   "cell_type": "code",
   "execution_count": 239,
   "id": "5051968a",
   "metadata": {},
   "outputs": [
    {
     "name": "stderr",
     "output_type": "stream",
     "text": [
      "C:\\ProgramData\\anaconda3\\Lib\\site-packages\\sklearn\\preprocessing\\_encoders.py:972: FutureWarning: `sparse` was renamed to `sparse_output` in version 1.2 and will be removed in 1.4. `sparse_output` is ignored unless you leave `sparse` to its default value.\n",
      "  warnings.warn(\n"
     ]
    }
   ],
   "source": [
    "X_train_new = transformer.fit_transform(X_train)"
   ]
  },
  {
   "cell_type": "code",
   "execution_count": 240,
   "id": "996ab7ca",
   "metadata": {},
   "outputs": [
    {
     "data": {
      "text/plain": [
       "(92, 134)"
      ]
     },
     "execution_count": 240,
     "metadata": {},
     "output_type": "execute_result"
    }
   ],
   "source": [
    "X_train_new.shape"
   ]
  },
  {
   "cell_type": "code",
   "execution_count": 241,
   "id": "6a7fe4d9",
   "metadata": {},
   "outputs": [
    {
     "name": "stderr",
     "output_type": "stream",
     "text": [
      "C:\\ProgramData\\anaconda3\\Lib\\site-packages\\sklearn\\preprocessing\\_encoders.py:972: FutureWarning: `sparse` was renamed to `sparse_output` in version 1.2 and will be removed in 1.4. `sparse_output` is ignored unless you leave `sparse` to its default value.\n",
      "  warnings.warn(\n"
     ]
    }
   ],
   "source": [
    "X_test_new=transformer.fit_transform(X_test)"
   ]
  },
  {
   "cell_type": "code",
   "execution_count": 242,
   "id": "1df4edc9",
   "metadata": {},
   "outputs": [
    {
     "data": {
      "text/plain": [
       "(92, 134)"
      ]
     },
     "execution_count": 242,
     "metadata": {},
     "output_type": "execute_result"
    }
   ],
   "source": [
    "X_train_new.shape"
   ]
  },
  {
   "cell_type": "code",
   "execution_count": 243,
   "id": "5b54cfd6",
   "metadata": {},
   "outputs": [
    {
     "data": {
      "text/plain": [
       "(24, 134)"
      ]
     },
     "execution_count": 243,
     "metadata": {},
     "output_type": "execute_result"
    }
   ],
   "source": [
    "X_test_new.shape"
   ]
  },
  {
   "cell_type": "markdown",
   "id": "19a2f028",
   "metadata": {},
   "source": [
    "## Model building"
   ]
  },
  {
   "cell_type": "code",
   "execution_count": 244,
   "id": "d7d6d121",
   "metadata": {},
   "outputs": [
    {
     "data": {
      "text/html": [
       "<style>#sk-container-id-6 {color: black;}#sk-container-id-6 pre{padding: 0;}#sk-container-id-6 div.sk-toggleable {background-color: white;}#sk-container-id-6 label.sk-toggleable__label {cursor: pointer;display: block;width: 100%;margin-bottom: 0;padding: 0.3em;box-sizing: border-box;text-align: center;}#sk-container-id-6 label.sk-toggleable__label-arrow:before {content: \"▸\";float: left;margin-right: 0.25em;color: #696969;}#sk-container-id-6 label.sk-toggleable__label-arrow:hover:before {color: black;}#sk-container-id-6 div.sk-estimator:hover label.sk-toggleable__label-arrow:before {color: black;}#sk-container-id-6 div.sk-toggleable__content {max-height: 0;max-width: 0;overflow: hidden;text-align: left;background-color: #f0f8ff;}#sk-container-id-6 div.sk-toggleable__content pre {margin: 0.2em;color: black;border-radius: 0.25em;background-color: #f0f8ff;}#sk-container-id-6 input.sk-toggleable__control:checked~div.sk-toggleable__content {max-height: 200px;max-width: 100%;overflow: auto;}#sk-container-id-6 input.sk-toggleable__control:checked~label.sk-toggleable__label-arrow:before {content: \"▾\";}#sk-container-id-6 div.sk-estimator input.sk-toggleable__control:checked~label.sk-toggleable__label {background-color: #d4ebff;}#sk-container-id-6 div.sk-label input.sk-toggleable__control:checked~label.sk-toggleable__label {background-color: #d4ebff;}#sk-container-id-6 input.sk-hidden--visually {border: 0;clip: rect(1px 1px 1px 1px);clip: rect(1px, 1px, 1px, 1px);height: 1px;margin: -1px;overflow: hidden;padding: 0;position: absolute;width: 1px;}#sk-container-id-6 div.sk-estimator {font-family: monospace;background-color: #f0f8ff;border: 1px dotted black;border-radius: 0.25em;box-sizing: border-box;margin-bottom: 0.5em;}#sk-container-id-6 div.sk-estimator:hover {background-color: #d4ebff;}#sk-container-id-6 div.sk-parallel-item::after {content: \"\";width: 100%;border-bottom: 1px solid gray;flex-grow: 1;}#sk-container-id-6 div.sk-label:hover label.sk-toggleable__label {background-color: #d4ebff;}#sk-container-id-6 div.sk-serial::before {content: \"\";position: absolute;border-left: 1px solid gray;box-sizing: border-box;top: 0;bottom: 0;left: 50%;z-index: 0;}#sk-container-id-6 div.sk-serial {display: flex;flex-direction: column;align-items: center;background-color: white;padding-right: 0.2em;padding-left: 0.2em;position: relative;}#sk-container-id-6 div.sk-item {position: relative;z-index: 1;}#sk-container-id-6 div.sk-parallel {display: flex;align-items: stretch;justify-content: center;background-color: white;position: relative;}#sk-container-id-6 div.sk-item::before, #sk-container-id-6 div.sk-parallel-item::before {content: \"\";position: absolute;border-left: 1px solid gray;box-sizing: border-box;top: 0;bottom: 0;left: 50%;z-index: -1;}#sk-container-id-6 div.sk-parallel-item {display: flex;flex-direction: column;z-index: 1;position: relative;background-color: white;}#sk-container-id-6 div.sk-parallel-item:first-child::after {align-self: flex-end;width: 50%;}#sk-container-id-6 div.sk-parallel-item:last-child::after {align-self: flex-start;width: 50%;}#sk-container-id-6 div.sk-parallel-item:only-child::after {width: 0;}#sk-container-id-6 div.sk-dashed-wrapped {border: 1px dashed gray;margin: 0 0.4em 0.5em 0.4em;box-sizing: border-box;padding-bottom: 0.4em;background-color: white;}#sk-container-id-6 div.sk-label label {font-family: monospace;font-weight: bold;display: inline-block;line-height: 1.2em;}#sk-container-id-6 div.sk-label-container {text-align: center;}#sk-container-id-6 div.sk-container {/* jupyter's `normalize.less` sets `[hidden] { display: none; }` but bootstrap.min.css set `[hidden] { display: none !important; }` so we also need the `!important` here to be able to override the default hidden behavior on the sphinx rendered scikit-learn.org. See: https://github.com/scikit-learn/scikit-learn/issues/21755 */display: inline-block !important;position: relative;}#sk-container-id-6 div.sk-text-repr-fallback {display: none;}</style><div id=\"sk-container-id-6\" class=\"sk-top-container\"><div class=\"sk-text-repr-fallback\"><pre>LinearRegression()</pre><b>In a Jupyter environment, please rerun this cell to show the HTML representation or trust the notebook. <br />On GitHub, the HTML representation is unable to render, please try loading this page with nbviewer.org.</b></div><div class=\"sk-container\" hidden><div class=\"sk-item\"><div class=\"sk-estimator sk-toggleable\"><input class=\"sk-toggleable__control sk-hidden--visually\" id=\"sk-estimator-id-6\" type=\"checkbox\" checked><label for=\"sk-estimator-id-6\" class=\"sk-toggleable__label sk-toggleable__label-arrow\">LinearRegression</label><div class=\"sk-toggleable__content\"><pre>LinearRegression()</pre></div></div></div></div></div>"
      ],
      "text/plain": [
       "LinearRegression()"
      ]
     },
     "execution_count": 244,
     "metadata": {},
     "output_type": "execute_result"
    }
   ],
   "source": [
    "from sklearn.linear_model import LinearRegression\n",
    "\n",
    "lr = LinearRegression()\n",
    "lr.fit(X_train_new,y_train)"
   ]
  },
  {
   "cell_type": "code",
   "execution_count": 245,
   "id": "df65d5b6",
   "metadata": {},
   "outputs": [
    {
     "data": {
      "text/plain": [
       "(92, 134)"
      ]
     },
     "execution_count": 245,
     "metadata": {},
     "output_type": "execute_result"
    }
   ],
   "source": [
    "X_train_new.shape"
   ]
  },
  {
   "cell_type": "code",
   "execution_count": 246,
   "id": "0cbbf727",
   "metadata": {},
   "outputs": [],
   "source": [
    "y_lr_train_pred = lr.predict(X_train_new)"
   ]
  },
  {
   "cell_type": "code",
   "execution_count": 247,
   "id": "26b7900d",
   "metadata": {},
   "outputs": [],
   "source": [
    "y_lr_test_pred = lr.predict(X_test_new)"
   ]
  },
  {
   "cell_type": "markdown",
   "id": "9e2c1545",
   "metadata": {},
   "source": [
    "## Evaluate model performance"
   ]
  },
  {
   "cell_type": "code",
   "execution_count": 248,
   "id": "e6038fde",
   "metadata": {},
   "outputs": [],
   "source": [
    "from sklearn.metrics import mean_squared_error, r2_score\n",
    "\n",
    "lr_train_mse = mean_squared_error(y_train, y_lr_train_pred)\n",
    "lr_train_r2 = r2_score(y_train, y_lr_train_pred)\n",
    "\n",
    "lr_test_mse = mean_squared_error(y_test, y_lr_test_pred)\n",
    "lr_test_r2 = r2_score(y_test, y_lr_test_pred)"
   ]
  },
  {
   "cell_type": "code",
   "execution_count": 249,
   "id": "5db0fb74",
   "metadata": {},
   "outputs": [
    {
     "name": "stdout",
     "output_type": "stream",
     "text": [
      "LR Train MSE:  9.659082332312506e-07\n",
      "LR Train R2:  1.0\n",
      "LR Test MSE:  270816453304536.1\n",
      "LR Test R2:  -20.38219522958453\n"
     ]
    }
   ],
   "source": [
    "print(\"LR Train MSE: \",lr_train_mse)\n",
    "print(\"LR Train R2: \",lr_train_r2)\n",
    "print(\"LR Test MSE: \",lr_test_mse)\n",
    "print(\"LR Test R2: \",lr_test_r2)"
   ]
  },
  {
   "cell_type": "code",
   "execution_count": null,
   "id": "f0b16f47",
   "metadata": {},
   "outputs": [],
   "source": []
  },
  {
   "cell_type": "code",
   "execution_count": null,
   "id": "6c0ff234",
   "metadata": {},
   "outputs": [],
   "source": []
  }
 ],
 "metadata": {
  "kernelspec": {
   "display_name": "Python 3 (ipykernel)",
   "language": "python",
   "name": "python3"
  },
  "language_info": {
   "codemirror_mode": {
    "name": "ipython",
    "version": 3
   },
   "file_extension": ".py",
   "mimetype": "text/x-python",
   "name": "python",
   "nbconvert_exporter": "python",
   "pygments_lexer": "ipython3",
   "version": "3.11.5"
  }
 },
 "nbformat": 4,
 "nbformat_minor": 5
}
